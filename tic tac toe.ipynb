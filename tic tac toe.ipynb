{
 "cells": [
  {
   "cell_type": "code",
   "execution_count": 1,
   "metadata": {},
   "outputs": [
    {
     "name": "stdout",
     "output_type": "stream",
     "text": [
      "pygame 2.1.2 (SDL 2.0.18, Python 3.9.12)\n",
      "Hello from the pygame community. https://www.pygame.org/contribute.html\n",
      "[[0. 0. 0.]\n",
      " [0. 0. 0.]\n",
      " [0. 0. 0.]]\n"
     ]
    },
    {
     "ename": "SystemExit",
     "evalue": "",
     "output_type": "error",
     "traceback": [
      "An exception has occurred, use %tb to see the full traceback.\n",
      "\u001b[1;31mSystemExit\u001b[0m\n"
     ]
    },
    {
     "name": "stderr",
     "output_type": "stream",
     "text": [
      "C:\\Users\\Vishesh\\anaconda3\\lib\\site-packages\\IPython\\core\\interactiveshell.py:3377: UserWarning: To exit: use 'exit', 'quit', or Ctrl-D.\n",
      "  warn(\"To exit: use 'exit', 'quit', or Ctrl-D.\", stacklevel=1)\n"
     ]
    }
   ],
   "source": [
    "import pygame\n",
    "import sys\n",
    "import math\n",
    "import numpy as np\n",
    "pygame.init()\n",
    "wind = pygame.display.set_mode((600,600))\n",
    "array = np.zeros((3,3))\n",
    "print(array)\n",
    "def getboard():\n",
    "    for c in range(3):\n",
    "        for r in range(3):\n",
    "            pygame.draw.rect(wind,(255,255,255),(r*200+5,c*200+5,190,190))\n",
    "    pygame.display.update()\n",
    "\n",
    "def checkwin(turn,xpos,ypos):\n",
    "    if array[0][xpos]==turn and array[1][xpos]==turn and array[2][xpos]==turn:\n",
    "        return True\n",
    "    if array[ypos][0]==turn and array[ypos][1]==turn and array[ypos][2]==turn:\n",
    "        return True\n",
    "    if array[0][0]==turn and array[1][1]==turn and array[2][2]==turn:\n",
    "        return True\n",
    "    if array[2][0]==turn and array[1][1]==turn and array[0][2]==turn:\n",
    "        return True\n",
    "    pygame.display.update()\n",
    "        \n",
    "        \n",
    "getboard()\n",
    "myfont = pygame.font.SysFont(\"monospace\",150)\n",
    "gameover = False\n",
    "turn = 1\n",
    "pygame.display.set_caption(\"PLAYER 1 TURN\")\n",
    "while not gameover:\n",
    "    pygame.display.update()\n",
    "    for events in pygame.event.get():\n",
    "        if events.type == pygame.QUIT:\n",
    "            sys.exit()\n",
    "        if events.type == pygame.MOUSEBUTTONDOWN:\n",
    "            xpos = int(math.floor(events.pos[0]/200))\n",
    "            ypos = int(math.floor(events.pos[1]/200))\n",
    "            if array[ypos][xpos] == 0:\n",
    "                if turn == 1:\n",
    "                    label = myfont.render(\"O\",1,(255,0,0))\n",
    "                    array[ypos][xpos] = 1\n",
    "                else:\n",
    "                    label = myfont.render(\"X\",1,(255,0,0))\n",
    "                    array[ypos][xpos] = -1\n",
    "                wind.blit(label,(xpos*200+55,ypos*200+20))\n",
    "                pygame.display.update()\n",
    "                gameover = checkwin(turn,xpos,ypos)\n",
    "                if gameover:\n",
    "                    pygame.display.set_caption(\"PLAYER {} WINS\".format(int((turn-3)/(-2))))\n",
    "                    sys.exit()\n",
    "                turn*=-1\n",
    "                pygame.display.set_caption(\"PLAYER {} TURN\".format(int((turn-3)/(-2))))"
   ]
  },
  {
   "cell_type": "code",
   "execution_count": null,
   "metadata": {},
   "outputs": [],
   "source": []
  }
 ],
 "metadata": {
  "kernelspec": {
   "display_name": "Python 3 (ipykernel)",
   "language": "python",
   "name": "python3"
  },
  "language_info": {
   "codemirror_mode": {
    "name": "ipython",
    "version": 3
   },
   "file_extension": ".py",
   "mimetype": "text/x-python",
   "name": "python",
   "nbconvert_exporter": "python",
   "pygments_lexer": "ipython3",
   "version": "3.9.12"
  }
 },
 "nbformat": 4,
 "nbformat_minor": 2
}
