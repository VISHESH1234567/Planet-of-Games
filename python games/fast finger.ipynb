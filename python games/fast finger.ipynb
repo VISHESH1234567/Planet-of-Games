{
 "cells": [
  {
   "cell_type": "code",
   "execution_count": 1,
   "metadata": {},
   "outputs": [
    {
     "name": "stdout",
     "output_type": "stream",
     "text": [
      "pygame 2.1.2 (SDL 2.0.18, Python 3.9.12)\n",
      "Hello from the pygame community. https://www.pygame.org/contribute.html\n"
     ]
    },
    {
     "ename": "TypeError",
     "evalue": "rect argument is invalid",
     "output_type": "error",
     "traceback": [
      "\u001b[1;31m---------------------------------------------------------------------------\u001b[0m",
      "\u001b[1;31mTypeError\u001b[0m                                 Traceback (most recent call last)",
      "Input \u001b[1;32mIn [1]\u001b[0m, in \u001b[0;36m<cell line: 13>\u001b[1;34m()\u001b[0m\n\u001b[0;32m     33\u001b[0m \u001b[38;5;28;01melif\u001b[39;00m score\u001b[38;5;241m>\u001b[39m\u001b[38;5;241m50\u001b[39m:\n\u001b[0;32m     34\u001b[0m     wall \u001b[38;5;241m=\u001b[39m pygame\u001b[38;5;241m.\u001b[39mdraw\u001b[38;5;241m.\u001b[39mrect(wind,(\u001b[38;5;241m255\u001b[39m,\u001b[38;5;241m255\u001b[39m,\u001b[38;5;241m255\u001b[39m),(\u001b[38;5;241m0\u001b[39m,wally,\u001b[38;5;241m600\u001b[39m,\u001b[38;5;241m50\u001b[39m))\n\u001b[1;32m---> 35\u001b[0m safewall \u001b[38;5;241m=\u001b[39m \u001b[43mpygame\u001b[49m\u001b[38;5;241;43m.\u001b[39;49m\u001b[43mdraw\u001b[49m\u001b[38;5;241;43m.\u001b[39;49m\u001b[43mrect\u001b[49m\u001b[43m(\u001b[49m\u001b[43mwind\u001b[49m\u001b[43m,\u001b[49m\u001b[43m(\u001b[49m\u001b[38;5;241;43m0\u001b[39;49m\u001b[43m,\u001b[49m\u001b[38;5;241;43m0\u001b[39;49m\u001b[43m,\u001b[49m\u001b[38;5;241;43m0\u001b[39;49m\u001b[43m)\u001b[49m\u001b[43m,\u001b[49m\u001b[43m(\u001b[49m\u001b[43mrandx\u001b[49m\u001b[43m,\u001b[49m\u001b[43mwally\u001b[49m\u001b[43m,\u001b[49m\u001b[38;5;241;43m100\u001b[39;49m\u001b[43m,\u001b[49m\u001b[38;5;241;43m50\u001b[39;49m\u001b[43m)\u001b[49m\u001b[43m)\u001b[49m\n\u001b[0;32m     36\u001b[0m wally \u001b[38;5;241m+\u001b[39m\u001b[38;5;241m=\u001b[39m times\n\u001b[0;32m     37\u001b[0m \u001b[38;5;28;01mfor\u001b[39;00m events \u001b[38;5;129;01min\u001b[39;00m pygame\u001b[38;5;241m.\u001b[39mevent\u001b[38;5;241m.\u001b[39mget():\n",
      "\u001b[1;31mTypeError\u001b[0m: rect argument is invalid"
     ]
    }
   ],
   "source": [
    "import pygame\n",
    "import sys\n",
    "import numpy as np\n",
    "wind = pygame.display.set_mode((600,600))\n",
    "pygame.init()\n",
    "gameover = False\n",
    "wally = 0\n",
    "prevvalue = 0\n",
    "ypos = 550\n",
    "xpos = 300\n",
    "score = 0\n",
    "myfont = pygame.font.SysFont(\"monospace\",50)\n",
    "while not gameover:\n",
    "    times = int(score/10)+0.5\n",
    "    randx = np.random.randint(0,6,1)*100\n",
    "    for turn in range(int(600/times)):\n",
    "        wind.fill((0,0,0))\n",
    "        label = myfont.render(\"{}\".format(score),1,(0,0,255))\n",
    "        wind.blit(label,(300,500))\n",
    "        if wally > 600:\n",
    "            wally = 0\n",
    "            score += 1\n",
    "        if score <= 10:\n",
    "            wall = pygame.draw.rect(wind,(255,0,0),(0,wally,600,50))\n",
    "        elif score>10 and score<=20:\n",
    "            wall = pygame.draw.rect(wind,(255,95,71),(0,wally,600,50))\n",
    "        elif score>20 and score<=30:\n",
    "            wall = pygame.draw.rect(wind,(255,255,0),(0,wally,600,50))\n",
    "        elif score>30 and score<=40:\n",
    "            wall = pygame.draw.rect(wind,(0,255,0),(0,wally,600,50))\n",
    "        elif score>40 and score<=50:\n",
    "            wall = pygame.draw.rect(wind,(0,255,255),(0,wally,600,50))\n",
    "        elif score>50:\n",
    "            wall = pygame.draw.rect(wind,(255,255,255),(0,wally,600,50))\n",
    "        safewall = pygame.draw.rect(wind,(0,0,0),(randx,wally,100,50))\n",
    "        wally += times\n",
    "        for events in pygame.event.get():\n",
    "            if events.type == pygame.QUIT:\n",
    "                sys.exit()\n",
    "            if events.type == pygame.MOUSEMOTION:\n",
    "                \n",
    "                xpos = events.pos[0]\n",
    "                ypos = events.pos[1]\n",
    "                ball = pygame.draw.circle(wind,(0,0,0),(xpos,ypos),15)\n",
    "                \n",
    "                if ypos <= wally+50 and ypos >= wally and (xpos >= randx+100 or xpos <= randx):\n",
    "                    gameover = True\n",
    "                    sys.exit()\n",
    "            pygame.display.update()\n",
    "        if ypos <= wally+50 and ypos >= wally and (xpos >= randx+100 or xpos <= randx):\n",
    "            gameover = True\n",
    "            sys.exit()\n",
    "        pygame.display.update()"
   ]
  }
 ],
 "metadata": {
  "kernelspec": {
   "display_name": "Python 3 (ipykernel)",
   "language": "python",
   "name": "python3"
  },
  "language_info": {
   "codemirror_mode": {
    "name": "ipython",
    "version": 3
   },
   "file_extension": ".py",
   "mimetype": "text/x-python",
   "name": "python",
   "nbconvert_exporter": "python",
   "pygments_lexer": "ipython3",
   "version": "3.9.12"
  }
 },
 "nbformat": 4,
 "nbformat_minor": 2
}
